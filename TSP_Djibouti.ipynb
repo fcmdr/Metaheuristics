{
 "cells": [
  {
   "cell_type": "markdown",
   "metadata": {},
   "source": [
    "# Travel Salesman Problem Djibouti"
   ]
  },
  {
   "cell_type": "markdown",
   "metadata": {},
   "source": [
    "The Travel Salesman Problem is a known problem in combinatorial optimization. The goal is to determine the shortest path through differents locations. Here the goal is to find the shortest path to visit each and every cities of Djibouti and return to the start.\n",
    "The computational complexity increases very quickly as the complexity is factorial. Exemple for 6 cities the number of combinations is **6!= 720 posssibilities**\n",
    "for 12 cities it becomes **12!=479001600 possibilities!**\n",
    "This problem has many applications (logistic, astronomy etc) and is still an active scope of research"
   ]
  },
  {
   "cell_type": "code",
   "execution_count": 1,
   "metadata": {},
   "outputs": [],
   "source": [
    "#Import librairies\n",
    "import six\n",
    "import sys\n",
    "sys.modules['sklearn.externals.six'] = six\n",
    "import mlrose\n",
    "import time\n",
    "import math\n",
    "import matplotlib.pyplot as plt\n",
    "import numpy as np, random, operator, pandas as pd, matplotlib.pyplot as plt\n",
    "import tsplib95"
   ]
  },
  {
   "cell_type": "code",
   "execution_count": 2,
   "metadata": {},
   "outputs": [],
   "source": [
    "#Open the tsp file with tsplib95\n",
    "with open('C:/Users/Fouad/Desktop/DSTI courses/Metaheuristics/Djibouti.tsp') as f:\n",
    "    problem = tsplib95.read(f)"
   ]
  },
  {
   "cell_type": "code",
   "execution_count": 3,
   "metadata": {},
   "outputs": [],
   "source": [
    "#Define a class City with x,y coordinates and a distance method to compute distances between 2 cities\n",
    "Cities_list = []\n",
    "class City:\n",
    "    def __init__(self, x, y):\n",
    "        self.x = x\n",
    "        self.y = y\n",
    "        Cities_list.append(self)\n",
    "        \n",
    "    def distance(self, city):\n",
    "        xDis = abs(self.x - city.x)\n",
    "        yDis = abs(self.y - city.y)\n",
    "        distance = np.sqrt((xDis ** 2) + (yDis ** 2))\n",
    "        return distance\n",
    "    \n",
    "    def __repr__(self):\n",
    "        return \"(\" + str(self.x) + \",\" + str(self.y) + \")\"  "
   ]
  },
  {
   "cell_type": "code",
   "execution_count": 4,
   "metadata": {},
   "outputs": [],
   "source": [
    "#Create a class fitness to define the route\n",
    "class Fitness:\n",
    "    def __init__(self, route):\n",
    "        self.route = route\n",
    "        self.distance = 0\n",
    "        self.fitness= 0.0\n",
    "    \n",
    "    def routeDistance(self):\n",
    "        if self.distance ==0:\n",
    "            pathDistance = 0\n",
    "            for i in range(0, len(self.route)):\n",
    "                fromCity = self.route[i]\n",
    "                toCity = None\n",
    "                if i + 1 < len(self.route):\n",
    "                    toCity = self.route[i + 1]\n",
    "                else:\n",
    "                    toCity = self.route[0]\n",
    "                pathDistance += fromCity.distance(toCity)\n",
    "            self.distance = pathDistance\n",
    "        return self.distance\n",
    "    \n",
    "    def routeFitness(self):\n",
    "        if self.fitness == 0:\n",
    "            self.fitness = 1 / float(self.routeDistance())\n",
    "        return self.fitness"
   ]
  },
  {
   "cell_type": "code",
   "execution_count": 5,
   "metadata": {},
   "outputs": [],
   "source": [
    "#Initial route is random from list of cities\n",
    "def createRoute(cityList):\n",
    "    route = random.sample(cityList, len(cityList))\n",
    "    return route"
   ]
  },
  {
   "cell_type": "code",
   "execution_count": 6,
   "metadata": {},
   "outputs": [],
   "source": [
    "#We have created 1 inidividual, to create a population we add a parameter popSize\n",
    "def initialPopulation(popSize, cityList):\n",
    "    population = []\n",
    "\n",
    "    for i in range(0, popSize):\n",
    "        population.append(createRoute(cityList))\n",
    "    return population"
   ]
  },
  {
   "cell_type": "code",
   "execution_count": 7,
   "metadata": {},
   "outputs": [],
   "source": [
    "#Determine fitness each inidividual will be ranked thanks to the distance (routeFitness method of the Fitness class)\n",
    "def rankRoutes(population):\n",
    "    fitnessResults = {}\n",
    "    for i in range(0,len(population)):\n",
    "        fitnessResults[i] = Fitness(population[i]).routeFitness()\n",
    "    return sorted(fitnessResults.items(), key = operator.itemgetter(1), reverse = True)"
   ]
  },
  {
   "cell_type": "code",
   "execution_count": 8,
   "metadata": {},
   "outputs": [],
   "source": [
    "#We select the best individuals to produce the next generations we keep finally the route IDs of our selection\n",
    "def selection(popRanked, eliteSize):\n",
    "    selectionResults = []\n",
    "    df = pd.DataFrame(np.array(popRanked), columns=[\"Index\",\"Fitness\"])\n",
    "    df['cum_sum'] = df.Fitness.cumsum()\n",
    "    df['cum_perc'] = 100*df.cum_sum/df.Fitness.sum()\n",
    "    \n",
    "    for i in range(0, eliteSize):\n",
    "        selectionResults.append(popRanked[i][0])\n",
    "    for i in range(0, len(popRanked) - eliteSize):\n",
    "        pick = 100*random.random()\n",
    "        for i in range(0, len(popRanked)):\n",
    "            if pick <= df.iat[i,3]:\n",
    "                selectionResults.append(popRanked[i][0])\n",
    "                break\n",
    "    return selectionResults"
   ]
  },
  {
   "cell_type": "code",
   "execution_count": 9,
   "metadata": {},
   "outputs": [],
   "source": [
    "def matingPool(population, selectionResults):\n",
    "    matingpool = []\n",
    "    for i in range(0, len(selectionResults)):\n",
    "        index = selectionResults[i]\n",
    "        matingpool.append(population[index])\n",
    "    return matingpool"
   ]
  },
  {
   "cell_type": "code",
   "execution_count": 10,
   "metadata": {},
   "outputs": [],
   "source": [
    "#Creation of the next generations with crossover or \"breeding\" \n",
    "def breed(parent1, parent2):\n",
    "    child = []\n",
    "    childP1 = []\n",
    "    childP2 = []\n",
    "    \n",
    "    geneA = int(random.random() * len(parent1))\n",
    "    geneB = int(random.random() * len(parent1))\n",
    "    \n",
    "    startGene = min(geneA, geneB)\n",
    "    endGene = max(geneA, geneB)\n",
    "\n",
    "    for i in range(startGene, endGene):\n",
    "        childP1.append(parent1[i])\n",
    "    #A city cannot appear twice in a route     \n",
    "    childP2 = [item for item in parent2 if item not in childP1]\n",
    "\n",
    "    child = childP1 + childP2\n",
    "    return child"
   ]
  },
  {
   "cell_type": "code",
   "execution_count": 11,
   "metadata": {},
   "outputs": [],
   "source": [
    "#Creation of the offspring population, thanks to elitesize we keep the best route of the population\n",
    "def breedPopulation(matingpool, eliteSize):\n",
    "    children = []\n",
    "    length = len(matingpool) - eliteSize\n",
    "    pool = random.sample(matingpool, len(matingpool))\n",
    "\n",
    "    for i in range(0,eliteSize):\n",
    "        children.append(matingpool[i])\n",
    "    \n",
    "    for i in range(0, length):\n",
    "        child = breed(pool[i], pool[len(matingpool)-i-1])\n",
    "        children.append(child)\n",
    "    return children"
   ]
  },
  {
   "cell_type": "code",
   "execution_count": 12,
   "metadata": {},
   "outputs": [],
   "source": [
    "#To avoid local convergence we use a function called \"mutate\" this is first applied to 1 individual\n",
    "def mutate(individual, mutationRate):\n",
    "    for swapped in range(len(individual)):\n",
    "        if(random.random() < mutationRate):\n",
    "            swapWith = int(random.random() * len(individual))\n",
    "            \n",
    "            city1 = individual[swapped]\n",
    "            city2 = individual[swapWith]\n",
    "            \n",
    "            individual[swapped] = city2\n",
    "            individual[swapWith] = city1\n",
    "    return individual"
   ]
  },
  {
   "cell_type": "code",
   "execution_count": 13,
   "metadata": {},
   "outputs": [],
   "source": [
    "#The mutate function is then extend to the whole population\n",
    "def mutatePopulation(population, mutationRate):\n",
    "    mutatedPop = []\n",
    "    \n",
    "    for ind in range(0, len(population)):\n",
    "        mutatedInd = mutate(population[ind], mutationRate)\n",
    "        mutatedPop.append(mutatedInd)\n",
    "    return mutatedPop"
   ]
  },
  {
   "cell_type": "code",
   "execution_count": 14,
   "metadata": {},
   "outputs": [],
   "source": [
    "#Finally we produce differents generations\n",
    "def nextGeneration(currentGen, eliteSize, mutationRate):\n",
    "    popRanked = rankRoutes(currentGen)\n",
    "    selectionResults = selection(popRanked, eliteSize)\n",
    "    matingpool = matingPool(currentGen, selectionResults)\n",
    "    children = breedPopulation(matingpool, eliteSize)\n",
    "    nextGeneration = mutatePopulation(children, mutationRate)\n",
    "    return nextGeneration"
   ]
  },
  {
   "cell_type": "code",
   "execution_count": 15,
   "metadata": {},
   "outputs": [],
   "source": [
    "#FInally apply the genetic algorithm and see from how much we improved the global distance\n",
    "def geneticAlgorithm(population, popSize, eliteSize, mutationRate, generations):\n",
    "    pop = initialPopulation(popSize, population)\n",
    "    print(\"Initial distance: \" + str(1 / rankRoutes(pop)[0][1]))\n",
    "    \n",
    "    for i in range(0, generations):\n",
    "        pop = nextGeneration(pop, eliteSize, mutationRate)\n",
    "    \n",
    "    print(\"Final distance: \" + str(1 / rankRoutes(pop)[0][1]))\n",
    "    bestRouteIndex = rankRoutes(pop)[0][0]\n",
    "    print(f\"best route index is\" +str(bestRouteIndex))\n",
    "    bestRoute = pop[bestRouteIndex]\n",
    "    return bestRoute"
   ]
  },
  {
   "cell_type": "code",
   "execution_count": 16,
   "metadata": {},
   "outputs": [],
   "source": [
    "#Extract coordinates of the dictionnary from the problem file\n",
    "coords_dict = problem.node_coords\n",
    "coords = [*coords_dict.values()]"
   ]
  },
  {
   "cell_type": "code",
   "execution_count": 17,
   "metadata": {},
   "outputs": [],
   "source": [
    "#Extract in 2 separates lists x and y coordinates\n",
    "coords_x = [i[0] for i in coords]\n",
    "coords_y = [i[1] for i in coords]"
   ]
  },
  {
   "cell_type": "code",
   "execution_count": 18,
   "metadata": {},
   "outputs": [],
   "source": [
    "#Instanciate an object of the City class\n",
    "cityList = []\n",
    "for i in range(38):\n",
    "    cityList.append(City(x=int(coords_x[i]), y=int(coords_y[i])))"
   ]
  },
  {
   "cell_type": "code",
   "execution_count": 30,
   "metadata": {},
   "outputs": [
    {
     "name": "stdout",
     "output_type": "stream",
     "text": [
      "Initial distance: 22078.881328866562\n",
      "Final distance: 6962.503144918005\n",
      "best route index is0\n",
      "--- 361.06249260902405 seconds ---\n"
     ]
    }
   ],
   "source": [
    "# Use the genetic algorithm to minimize the distance path between the cities\n",
    "start_time = time.time()\n",
    "best_route_gen=geneticAlgorithm(population=cityList, popSize=300, eliteSize=20, mutationRate=0.001, generations=1000)\n",
    "print(\"--- %s seconds ---\" % (time.time() - start_time))"
   ]
  },
  {
   "cell_type": "markdown",
   "metadata": {},
   "source": [
    "We put the coordinates of the best route inside the **\"best_route_gen\"** variable"
   ]
  },
  {
   "cell_type": "code",
   "execution_count": 31,
   "metadata": {},
   "outputs": [
    {
     "name": "stdout",
     "output_type": "stream",
     "text": [
      "These are the shortest path found cities coordinates :[(11461,43252), (11485,43187), (11423,43000), (11416,42983), (11297,42853), (11310,42929), (11183,42933), (11133,42885), (11155,42712), (11108,42373), (11003,42102), (11438,42057), (11511,42106), (11715,41836), (12058,42195), (12149,42477), (12300,42433), (12372,42711), (12421,42895), (12645,42973), (12355,43156), (12286,43355), (12386,43334), (12363,43189), (11963,43290), (11973,43026), (11785,42884), (11751,42814), (11822,42673), (11846,42660), (11770,42651), (11690,42686), (11522,42841), (11503,42855), (11569,43136), (11583,43150), (11595,43148), (11600,43150)]\n"
     ]
    }
   ],
   "source": [
    "print(f\"These are the shortest path found cities coordinates :{best_route_gen}\")"
   ]
  },
  {
   "cell_type": "code",
   "execution_count": 32,
   "metadata": {},
   "outputs": [],
   "source": [
    "def geneticAlgoFitnessPlot(population, popSize, eliteSize, mutationRate, generations):\n",
    "    pop = initialPopulation(popSize, population)\n",
    "    progress = []\n",
    "    progress.append(1 / rankRoutes(pop)[0][1])\n",
    "    \n",
    "    for i in range(0, generations):\n",
    "        pop = nextGeneration(pop, eliteSize, mutationRate)\n",
    "        progress.append(1 / rankRoutes(pop)[0][1])\n",
    "    \n",
    "    plt.plot(progress)\n",
    "    plt.ylabel('Fitness (distance)')\n",
    "    plt.xlabel('Generation')\n",
    "    plt.show()"
   ]
  },
  {
   "cell_type": "code",
   "execution_count": 33,
   "metadata": {},
   "outputs": [
    {
     "data": {
      "image/png": "[encoded data removed]",
      "text/plain": [
       "<Figure size 432x288 with 1 Axes>"
      ]
     },
     "metadata": {
      "needs_background": "light"
     },
     "output_type": "display_data"
    }
   ],
   "source": [
    "#Plot the fitness function against the number of generation\n",
    "geneticAlgoFitnessPlot(population=cityList, popSize=200, eliteSize=20, mutationRate=0.001, generations=1000)"
   ]
  },
  {
   "cell_type": "markdown",
   "metadata": {},
   "source": [
    "The optimal tour for Djibouti has a length of 6656. The result we got is quite good (less than 7000) in approximately 1 minute.\n",
    "The number of possibilities for this problem is factorial 38 (approximately 5*10^44) So we confirmed genetic algorithm is a good way to get a good solution in a short amount of time for the Traveller\n",
    "Salesman Problem !"
   ]
  },
  {
   "cell_type": "code",
   "execution_count": 34,
   "metadata": {},
   "outputs": [],
   "source": [
    "#Transform best_route_gen into lists of lists (initially list of tuples which are imutable)\n",
    "def get_list_of_list():\n",
    "    best_route_gen_arr = np.array(best_route_gen)\n",
    "    a = []\n",
    "    b = []\n",
    "    for l in best_route_gen_arr:\n",
    "        a.append(l.x)\n",
    "        b.append(l.y)\n",
    "    a = np.array(a)\n",
    "    b = np.array(b)\n",
    "\n",
    "    a = a.reshape(-1,1)\n",
    "    b = b.reshape(-1,1)\n",
    "    best_route_gen_list = np.concatenate((a,b),axis=1)\n",
    "    return best_route_gen_list"
   ]
  },
  {
   "cell_type": "code",
   "execution_count": 35,
   "metadata": {},
   "outputs": [],
   "source": [
    "# Get best_route_gen as list of lists\n",
    "best_route_gen_list = get_list_of_list()"
   ]
  },
  {
   "cell_type": "code",
   "execution_count": 36,
   "metadata": {},
   "outputs": [],
   "source": [
    "#Create dataframe with x, y coordinate to merge them with the best_route_coord\n",
    "def get_cities_from_coor(coords_dict,best_route_gen_list):\n",
    "    df = pd.DataFrame.from_dict(coords_dict, orient='index',columns=['x', 'y'])\n",
    "\n",
    "    trunc = lambda x: int(x)\n",
    "\n",
    "    df['xc']=df['x'].apply(trunc)\n",
    "    df['yc']=df['y'].apply(trunc)\n",
    "    df['city'] = [i+1 for i in range(38)]\n",
    "\n",
    "    #To extract the cities index of the best_route\n",
    "    df_br = pd.DataFrame(best_route_gen_list[:,0],columns=['xc'])\n",
    "    df_br['yc'] = best_route_gen_list[:,1]\n",
    "    df_br['rank'] = [i+1 for i in range(38)]\n",
    "    result = pd.merge(df, df_br, how='left', on=['xc', 'yc'])\n",
    "    result.sort_values(by=['rank'])\n",
    "    #Extract cities index\n",
    "    best_route_gen_list_ord = result['rank'].values\n",
    "    return best_route_gen_list_ord"
   ]
  },
  {
   "cell_type": "code",
   "execution_count": 37,
   "metadata": {},
   "outputs": [
    {
     "name": "stdout",
     "output_type": "stream",
     "text": [
      "Best route is the following path :[11 10  8  9  7  5  6  4  3 12  1  2 34 13 33 35 36 37 38 32 14 28 31 27\n",
      " 29 30 25 26 15 16 22 17 21 24 18 23 19 20]\n"
     ]
    }
   ],
   "source": [
    "best_route_gen_list_ord = get_cities_from_coor(coords_dict,best_route_gen_list)\n",
    "print(f\"Best route is the following path :{best_route_gen_list_ord}\")"
   ]
  },
  {
   "cell_type": "code",
   "execution_count": 40,
   "metadata": {},
   "outputs": [],
   "source": [
    "def plot_tsp():\n",
    "    fig = plt.figure(figsize=(10,5))\n",
    "    ax = fig.add_subplot(122)\n",
    "    for first,second in zip(best_route_gen[:-1],best_route_gen[1:]):\n",
    "        ax.plot([first.x,second.x],[first.y,second.y],'b')\n",
    "    ax.plot([best_route_gen[0].x,best_route_gen[-1].x],[best_route_gen[0].y,best_route_gen[-1].y],'b')\n",
    "    ax.set_xlabel('x coordinates')\n",
    "    ax.set_ylabel('y coordinates')\n",
    "    ax.set_title('TSP solution proposal for Djibouti (38 cities) using genetic algorithm 6962 km (optimum = 6656km)',fontsize=16)\n",
    "    for c in best_route_gen:\n",
    "        ax.plot(c.x,c.y,'ro')"
   ]
  },
  {
   "cell_type": "code",
   "execution_count": 41,
   "metadata": {},
   "outputs": [
    {
     "data": {
      "image/png": "[encoded data removed]",
      "text/plain": [
       "<Figure size 720x360 with 1 Axes>"
      ]
     },
     "metadata": {
      "needs_background": "light"
     },
     "output_type": "display_data"
    }
   ],
   "source": [
    "plot_tsp()"
   ]
  }
 ],
 "metadata": {
  "kernelspec": {
   "display_name": "Python 3",
   "language": "python",
   "name": "python3"
  },
  "language_info": {
   "codemirror_mode": {
    "name": "ipython",
    "version": 3
   },
   "file_extension": ".py",
   "mimetype": "text/x-python",
   "name": "python",
   "nbconvert_exporter": "python",
   "pygments_lexer": "ipython3",
   "version": "3.7.6"
  }
 },
 "nbformat": 4,
 "nbformat_minor": 4
}
