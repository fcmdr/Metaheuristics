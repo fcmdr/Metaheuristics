{
 "cells": [
  {
   "cell_type": "markdown",
   "metadata": {},
   "source": [
    "# Shifted sphere function minimization"
   ]
  },
  {
   "cell_type": "markdown",
   "metadata": {},
   "source": [
    "The goal is to optimize (minimize more precisely) the shifted-sphere cost function which is unimodal meaning it has a unique global optimum"
   ]
  },
  {
   "attachments": {
    "shifted_sphere.jpg": {
     "image/jpeg": "[encoded data removed]"
    }
   },
   "cell_type": "markdown",
   "metadata": {},
   "source": [
    "![shifted_sphere.jpg](attachment:shifted_sphere.jpg)"
   ]
  },
  {
   "cell_type": "code",
   "execution_count": 1,
   "metadata": {},
   "outputs": [],
   "source": [
    "# Import necessaries librairies\n",
    "import numpy as np\n",
    "import matplotlib.pyplot as plt\n",
    "from scipy.optimize import minimize\n",
    "# if not installed\n",
    "#!pip install autograd\n",
    "from autograd import grad, jacobian"
   ]
  },
  {
   "cell_type": "code",
   "execution_count": 22,
   "metadata": {},
   "outputs": [],
   "source": [
    "#Define a bias for the function\n",
    "f_bias = -450\n",
    "d50 = 50\n",
    "shift  = np.random.uniform(-100,100,d50)"
   ]
  },
  {
   "cell_type": "code",
   "execution_count": 23,
   "metadata": {},
   "outputs": [],
   "source": [
    "def shifted_sphere(x):\n",
    "    \"\"\"Shifted-Sphere objective function.\n",
    "\n",
    "    Has a global minimum at -450 (because of the bias we added).\n",
    "\n",
    "    Parameters\n",
    "    ----------\n",
    "    x : numpy.ndarray\n",
    "        The input of the function\n",
    "\n",
    "    Returns a numpy.ndarray\n",
    "    \"\"\"\n",
    "    global shift\n",
    "\n",
    "    j = sum((x-shift) ** 2.0)\n",
    "\n",
    "    return j + f_bias"
   ]
  },
  {
   "cell_type": "code",
   "execution_count": 24,
   "metadata": {},
   "outputs": [],
   "source": [
    "# Define a random initial solution for dimension 50\n",
    "x_0_50 = np.random.uniform(-100,100,d50)"
   ]
  },
  {
   "cell_type": "code",
   "execution_count": 25,
   "metadata": {},
   "outputs": [],
   "source": [
    "# Define a general function to optimize our function (shifted sphere function)\n",
    "def minimize_function(dimension, function,lw_bound,up_bound,initial_sol,optimizer = 'BFGS'):\n",
    "    min_bound = lw_bound * np.ones(dimension)\n",
    "    max_bound = up_bound * np.ones(dimension)\n",
    "    bounds = (min_bound, max_bound)\n",
    "    res = minimize(function, initial_sol, bounds=bounds,method='BFGS',tol=1e-5,callback=callbackf,options={'disp': True})\n",
    "    return res"
   ]
  },
  {
   "cell_type": "code",
   "execution_count": 11,
   "metadata": {},
   "outputs": [],
   "source": [
    "# Compute derivative of the function\n",
    "jacobian_cost = jacobian(shifted_sphere)"
   ]
  },
  {
   "cell_type": "code",
   "execution_count": 26,
   "metadata": {},
   "outputs": [],
   "source": [
    "# Define a callback this will helps to plot our results\n",
    "history = []\n",
    "def callbackf(x):\n",
    "    fobj = shifted_sphere(x)\n",
    "    history.append(fobj)"
   ]
  },
  {
   "cell_type": "code",
   "execution_count": 7,
   "metadata": {},
   "outputs": [],
   "source": [
    "#Set maximum number of iterations\n",
    "MAX_ITER = 1000"
   ]
  },
  {
   "cell_type": "code",
   "execution_count": 8,
   "metadata": {},
   "outputs": [],
   "source": [
    "def minimize_function_jac(dimension, function,lw_bound,up_bound,initial_sol,optimizer = 'BFGS'):\n",
    "    min_bound = lw_bound * np.ones(dimension)\n",
    "    max_bound = up_bound * np.ones(dimension)\n",
    "    bounds = (min_bound, max_bound)\n",
    "    res = minimize(function, initial_sol, bounds=bounds,jac = jacobian_cost,method='BFGS',callback=callbackf,options={'disp': True, 'maxiter': MAX_ITER})\n",
    "    return res"
   ]
  },
  {
   "cell_type": "markdown",
   "metadata": {},
   "source": [
    "Let's compare the 2 options without gradient and using gradient"
   ]
  },
  {
   "cell_type": "markdown",
   "metadata": {},
   "source": [
    "**1st option : Attempt with BFGS algorithm**"
   ]
  },
  {
   "cell_type": "code",
   "execution_count": 27,
   "metadata": {},
   "outputs": [
    {
     "name": "stdout",
     "output_type": "stream",
     "text": [
      "Optimization terminated successfully.\n",
      "         Current function value: -450.000000\n",
      "         Iterations: 5\n",
      "         Function evaluations: 520\n",
      "         Gradient evaluations: 10\n"
     ]
    },
    {
     "data": {
      "text/plain": [
       "      fun: -449.9999999998534\n",
       " hess_inv: array([[ 9.91434284e-01,  6.09487063e-03, -4.68445808e-03, ...,\n",
       "         5.04811970e-03, -4.01854212e-03, -8.86267804e-03],\n",
       "       [ 6.09487063e-03,  9.92163503e-01,  4.70199813e-03, ...,\n",
       "        -1.35064697e-02,  1.30199372e-02,  4.51637496e-03],\n",
       "       [-4.68445808e-03,  4.70199813e-03,  9.96902778e-01, ...,\n",
       "         6.63847659e-03, -6.17165295e-03, -4.14684202e-03],\n",
       "       ...,\n",
       "       [ 5.04811970e-03, -1.35064697e-02,  6.63847659e-03, ...,\n",
       "         9.68937784e-01,  3.11525037e-02,  1.52758104e-04],\n",
       "       [-4.01854212e-03,  1.30199372e-02, -6.17165295e-03, ...,\n",
       "         3.11525037e-02,  9.68616157e-01,  1.03834871e-03],\n",
       "       [-8.86267804e-03,  4.51637496e-03, -4.14684202e-03, ...,\n",
       "         1.52758104e-04,  1.03834871e-03,  9.89914746e-01]])\n",
       "      jac: array([ 0.00000000e+00,  0.00000000e+00, -3.81469727e-06, -3.81469727e-06,\n",
       "       -3.81469727e-06,  3.81469727e-06,  0.00000000e+00, -3.81469727e-06,\n",
       "        0.00000000e+00, -3.81469727e-06,  0.00000000e+00, -3.81469727e-06,\n",
       "       -3.81469727e-06, -3.81469727e-06, -3.81469727e-06,  0.00000000e+00,\n",
       "       -3.81469727e-06,  0.00000000e+00,  0.00000000e+00, -3.81469727e-06,\n",
       "        0.00000000e+00, -3.81469727e-06, -3.81469727e-06, -3.81469727e-06,\n",
       "       -3.81469727e-06, -3.81469727e-06,  0.00000000e+00,  0.00000000e+00,\n",
       "        3.81469727e-06, -7.62939453e-06,  0.00000000e+00,  0.00000000e+00,\n",
       "        0.00000000e+00,  0.00000000e+00,  0.00000000e+00,  3.81469727e-06,\n",
       "       -3.81469727e-06, -3.81469727e-06,  0.00000000e+00, -3.81469727e-06,\n",
       "        0.00000000e+00,  0.00000000e+00, -3.81469727e-06, -3.81469727e-06,\n",
       "        0.00000000e+00, -3.81469727e-06,  0.00000000e+00,  0.00000000e+00,\n",
       "        0.00000000e+00,  0.00000000e+00])\n",
       "  message: 'Optimization terminated successfully.'\n",
       "     nfev: 520\n",
       "      nit: 5\n",
       "     njev: 10\n",
       "   status: 0\n",
       "  success: True\n",
       "        x: array([ 30.53717696, -18.35176791, -20.4377478 ,  53.94814932,\n",
       "        58.60462785, -49.0007206 ,  90.59396972,  19.14469992,\n",
       "       -69.64343902,  70.3458321 , -59.98267231, -36.95973896,\n",
       "       -87.47986544, -13.31380926, -53.54811975, -97.60584649,\n",
       "        41.24202367,  36.91652927,  89.09832809, -63.82031462,\n",
       "        15.79409121,  43.21113941, -42.39409223, -60.04869203,\n",
       "        98.06406574,  40.39824131,  61.17948724,  19.56216873,\n",
       "        75.31522641,  25.61055348,  66.49060337,  60.74261101,\n",
       "       -65.04638392, -15.12579152, -93.61086521,  -6.19573428,\n",
       "       -14.87582155,  25.90353812, -45.15545606,  89.06786822,\n",
       "        28.50964759, -16.74237077,  25.07501808, -64.81391204,\n",
       "         6.71914533, -32.48630981,  87.86708188,  82.98976695,\n",
       "       -97.43944881, -89.01967105])"
      ]
     },
     "execution_count": 27,
     "metadata": {},
     "output_type": "execute_result"
    }
   ],
   "source": [
    "# Optimize the shifted function at dimension 50\n",
    "minimize_function(50, shifted_sphere,-100,100,x_0_50,optimizer = 'BFGS')"
   ]
  },
  {
   "cell_type": "code",
   "execution_count": 30,
   "metadata": {},
   "outputs": [
    {
     "data": {
      "text/plain": [
       "[<matplotlib.lines.Line2D at 0x1cbf8751e48>]"
      ]
     },
     "execution_count": 30,
     "metadata": {},
     "output_type": "execute_result"
    },
    {
     "data": {
      "image/png": "[encoded data removed]",
      "text/plain": [
       "<Figure size 432x288 with 1 Axes>"
      ]
     },
     "metadata": {
      "needs_background": "light"
     },
     "output_type": "display_data"
    }
   ],
   "source": [
    "# Plot value of the fitness function \n",
    "plt.title(\"Shifted-sphere minimization fitness function using BFGS, dimension=50\",fontsize=20,fontweight='bold')\n",
    "plt.xlabel(\"No of iterations\",fontsize=18)\n",
    "plt.ylabel(\"Fitness\",fontsize=18)\n",
    "\n",
    "plt.plot(history[:MAX_ITER])"
   ]
  },
  {
   "cell_type": "markdown",
   "metadata": {},
   "source": [
    "**2nd option using the same method but adding the gradient of the cost function**"
   ]
  },
  {
   "cell_type": "code",
   "execution_count": 31,
   "metadata": {},
   "outputs": [
    {
     "name": "stdout",
     "output_type": "stream",
     "text": [
      "Optimization terminated successfully.\n",
      "         Current function value: -450.000000\n",
      "         Iterations: 3\n",
      "         Function evaluations: 7\n",
      "         Gradient evaluations: 7\n"
     ]
    },
    {
     "data": {
      "text/plain": [
       "      fun: -450.0\n",
       " hess_inv: array([[ 0.99554094,  0.00590851, -0.00350852, ...,  0.01037794,\n",
       "        -0.01003433, -0.00321444],\n",
       "       [ 0.00590851,  0.99217087,  0.00464899, ..., -0.01375138,\n",
       "         0.01329608,  0.00425932],\n",
       "       [-0.00350852,  0.00464899,  0.99723939, ...,  0.00816567,\n",
       "        -0.00789531, -0.00252922],\n",
       "       ...,\n",
       "       [ 0.01037794, -0.01375138,  0.00816567, ...,  0.97584655,\n",
       "         0.02335374,  0.00748123],\n",
       "       [-0.01003433,  0.01329608, -0.00789531, ...,  0.02335374,\n",
       "         0.97741948, -0.00723353],\n",
       "       [-0.00321444,  0.00425932, -0.00252922, ...,  0.00748123,\n",
       "        -0.00723353,  0.99768278]])\n",
       "      jac: array([ 1.70530257e-13,  9.94759830e-14, -7.10542736e-14, -2.55795385e-13,\n",
       "       -2.84217094e-14,  1.42108547e-14, -5.68434189e-14,  3.69482223e-13,\n",
       "        8.52651283e-14, -2.84217094e-14, -7.10542736e-14, -2.84217094e-14,\n",
       "       -2.84217094e-14, -1.42108547e-14, -2.70006240e-13,  2.84217094e-14,\n",
       "       -5.68434189e-14, -1.42108547e-14,  3.69482223e-13,  5.68434189e-13,\n",
       "       -7.10542736e-15,  1.42108547e-14,  2.55795385e-13, -3.83693077e-13,\n",
       "       -5.68434189e-14, -2.84217094e-14,  9.94759830e-14, -1.42108547e-14,\n",
       "       -2.55795385e-13,  9.94759830e-14, -1.70530257e-13,  3.12638804e-13,\n",
       "        2.84217094e-14,  3.19744231e-14, -2.84217094e-13, -2.84217094e-14,\n",
       "        1.13686838e-13,  7.10542736e-14,  0.00000000e+00, -3.69482223e-13,\n",
       "        0.00000000e+00,  0.00000000e+00,  5.68434189e-14, -8.52651283e-14,\n",
       "        0.00000000e+00,  0.00000000e+00, -5.68434189e-14,  5.11590770e-13,\n",
       "       -1.70530257e-13, -8.52651283e-14])\n",
       "  message: 'Optimization terminated successfully.'\n",
       "     nfev: 7\n",
       "      nit: 3\n",
       "     njev: 7\n",
       "   status: 0\n",
       "  success: True\n",
       "        x: array([ 30.53717808, -18.35176685, -20.43774501,  53.94815121,\n",
       "        58.60463033, -49.00072105,  90.59397086,  19.14470199,\n",
       "       -69.64343777,  70.34583386, -59.98267189, -36.95973668,\n",
       "       -87.47986305, -13.31380744, -53.54811702, -97.60584607,\n",
       "        41.24202627,  36.91653002,  89.09832885, -63.82031226,\n",
       "        15.79409256,  43.21114164, -42.39409056, -60.04868992,\n",
       "        98.06406732,  40.3982443 ,  61.17948809,  19.56216972,\n",
       "        75.31522562,  25.61055753,  66.49060387,  60.74261162,\n",
       "       -65.04638286, -15.12579068, -93.61086497,  -6.19573478,\n",
       "       -14.87582   ,  25.90354103, -45.15545517,  89.06786982,\n",
       "        28.50964816, -16.74237083,  25.07502046, -64.81391003,\n",
       "         6.71914559, -32.48630733,  87.86708163,  82.98976798,\n",
       "       -97.43944738, -89.01967106])"
      ]
     },
     "execution_count": 31,
     "metadata": {},
     "output_type": "execute_result"
    }
   ],
   "source": [
    "minimize_function_jac(50, shifted_sphere,-100,100,x_0_50,optimizer = 'BFGS')"
   ]
  },
  {
   "cell_type": "code",
   "execution_count": 32,
   "metadata": {},
   "outputs": [
    {
     "data": {
      "text/plain": [
       "[<matplotlib.lines.Line2D at 0x1cbf87d8188>]"
      ]
     },
     "execution_count": 32,
     "metadata": {},
     "output_type": "execute_result"
    },
    {
     "data": {
      "image/png": "[encoded data removed]",
      "text/plain": [
       "<Figure size 432x288 with 1 Axes>"
      ]
     },
     "metadata": {
      "needs_background": "light"
     },
     "output_type": "display_data"
    }
   ],
   "source": [
    "# Plot value of the fitness function \n",
    "plt.title(\"Shifted-sphere minimization fitness function BFGS with gradients, dimension=50\",fontsize=20,fontweight='bold')\n",
    "plt.xlabel(\"No of iterations\",fontsize=18)\n",
    "plt.ylabel(\"Fitness\",fontsize=18)\n",
    "\n",
    "plt.plot(history[:MAX_ITER])"
   ]
  },
  {
   "cell_type": "markdown",
   "metadata": {},
   "source": [
    "Let's now optimize the sphere function at dimension 500 using again the BFGS algorithm"
   ]
  },
  {
   "cell_type": "code",
   "execution_count": 33,
   "metadata": {},
   "outputs": [],
   "source": [
    "#Define dimension, shift and initial solution proposal\n",
    "d500 = 500\n",
    "shift  = np.random.uniform(-100,100,d500)\n",
    "x_0_500 = np.random.uniform(-100,100,d500)"
   ]
  },
  {
   "cell_type": "code",
   "execution_count": 34,
   "metadata": {},
   "outputs": [
    {
     "name": "stdout",
     "output_type": "stream",
     "text": [
      "Optimization terminated successfully.\n",
      "         Current function value: -450.000000\n",
      "         Iterations: 3\n",
      "         Function evaluations: 8\n",
      "         Gradient evaluations: 8\n"
     ]
    },
    {
     "data": {
      "text/plain": [
       "      fun: -450.0\n",
       " hess_inv: array([[ 9.99993412e-01, -1.46646025e-04,  1.11785727e-05, ...,\n",
       "         5.44070389e-05,  1.89335616e-05, -6.75417509e-06],\n",
       "       [-1.46646025e-04,  9.96735923e-01,  2.48814957e-04, ...,\n",
       "         1.21100300e-03,  4.21427086e-04, -1.50335810e-04],\n",
       "       [ 1.11785727e-05,  2.48814957e-04,  9.99981033e-01, ...,\n",
       "        -9.23126625e-05, -3.21246573e-05,  1.14598386e-05],\n",
       "       ...,\n",
       "       [ 5.44070389e-05,  1.21100300e-03, -9.23126625e-05, ...,\n",
       "         9.99550707e-01, -1.56353367e-04,  5.57759835e-05],\n",
       "       [ 1.89335616e-05,  4.21427086e-04, -3.21246573e-05, ...,\n",
       "        -1.56353367e-04,  9.99945589e-01,  1.94099521e-05],\n",
       "       [-6.75417509e-06, -1.50335810e-04,  1.14598386e-05, ...,\n",
       "         5.57759835e-05,  1.94099521e-05,  9.99993076e-01]])\n",
       "      jac: array([-1.42108547e-14, -1.42108547e-13, -2.13162821e-14,  3.69482223e-13,\n",
       "        1.70530257e-13,  1.13686838e-13, -3.41060513e-13,  1.42108547e-13,\n",
       "       -1.42108547e-14, -2.84217094e-14,  0.00000000e+00,  1.70530257e-13,\n",
       "        0.00000000e+00,  1.63424829e-13,  8.52651283e-14,  8.52651283e-14,\n",
       "        0.00000000e+00,  8.52651283e-14, -2.55795385e-13, -1.13686838e-13,\n",
       "        4.26325641e-14, -9.23705556e-14,  3.97903932e-13, -7.10542736e-14,\n",
       "       -1.13686838e-13,  2.13162821e-14, -2.41584530e-13,  5.68434189e-14,\n",
       "        1.70530257e-13, -2.84217094e-14,  8.52651283e-14,  0.00000000e+00,\n",
       "        1.56319402e-13,  2.84217094e-14,  8.52651283e-14, -1.63424829e-13,\n",
       "       -1.27897692e-13, -1.27897692e-13, -1.13686838e-13, -1.42108547e-14,\n",
       "        1.13686838e-13,  1.42108547e-14,  7.10542736e-15,  1.56319402e-13,\n",
       "        1.27897692e-13, -2.84217094e-14,  4.97379915e-14,  1.77635684e-13,\n",
       "       -2.41584530e-13,  3.41060513e-13,  5.68434189e-14,  1.49213975e-13,\n",
       "       -4.26325641e-14,  4.26325641e-14,  0.00000000e+00,  4.83169060e-13,\n",
       "       -1.06581410e-14, -1.98951966e-13,  0.00000000e+00,  5.68434189e-14,\n",
       "       -1.98951966e-13,  2.84217094e-14, -2.84217094e-14,  2.27373675e-13,\n",
       "        7.10542736e-14,  1.13686838e-13, -5.68434189e-14, -2.13162821e-14,\n",
       "        1.98951966e-13, -6.25277607e-13, -1.63424829e-13, -1.63424829e-13,\n",
       "        9.94759830e-14,  7.10542736e-14,  3.41060513e-13,  3.97903932e-13,\n",
       "       -7.95807864e-13, -1.27897692e-13, -1.56319402e-13,  1.56319402e-13,\n",
       "        5.68434189e-14, -2.84217094e-14,  1.42108547e-13, -1.42108547e-13,\n",
       "       -5.68434189e-14,  7.10542736e-15,  2.84217094e-14,  0.00000000e+00,\n",
       "       -3.97903932e-13, -2.84217094e-14, -2.27373675e-13,  2.84217094e-14,\n",
       "       -1.42108547e-13,  5.68434189e-14, -1.42108547e-13,  2.84217094e-14,\n",
       "        9.94759830e-14,  5.68434189e-14, -2.13162821e-14, -1.42108547e-13,\n",
       "       -2.55795385e-13, -7.10542736e-15, -1.98951966e-13, -1.13686838e-13,\n",
       "        4.26325641e-14,  4.26325641e-14, -2.84217094e-14, -2.84217094e-14,\n",
       "        1.06581410e-14,  2.27373675e-13,  0.00000000e+00,  2.34479103e-13,\n",
       "        4.12114787e-13,  1.84741111e-13,  2.84217094e-14, -1.42108547e-13,\n",
       "        0.00000000e+00, -2.84217094e-14, -2.27373675e-13, -2.84217094e-14,\n",
       "        7.10542736e-14, -1.42108547e-13, -7.10542736e-14,  5.68434189e-14,\n",
       "       -4.54747351e-13, -5.68434189e-14,  0.00000000e+00,  0.00000000e+00,\n",
       "        1.13686838e-13, -1.27897692e-13, -1.42108547e-14, -2.84217094e-13,\n",
       "       -9.94759830e-13,  5.68434189e-14, -2.84217094e-14, -1.98951966e-13,\n",
       "       -1.13686838e-13, -5.68434189e-14,  4.26325641e-14,  7.10542736e-14,\n",
       "        5.68434189e-14, -7.10542736e-14,  0.00000000e+00, -2.27373675e-13,\n",
       "        5.68434189e-14,  0.00000000e+00,  8.52651283e-14,  7.10542736e-15,\n",
       "        7.10542736e-14,  1.42108547e-14,  8.52651283e-14, -9.94759830e-14,\n",
       "        1.42108547e-13, -1.42108547e-13,  3.12638804e-13,  1.70530257e-13,\n",
       "        2.13162821e-13, -1.70530257e-13, -3.55271368e-15,  4.26325641e-14,\n",
       "       -3.97903932e-13,  0.00000000e+00,  1.70530257e-13, -1.13686838e-13,\n",
       "       -5.40012479e-13,  0.00000000e+00,  2.27373675e-13,  7.10542736e-14,\n",
       "        1.70530257e-13,  5.68434189e-14, -4.26325641e-14, -2.84217094e-14,\n",
       "        4.26325641e-14, -2.84217094e-14, -1.35003120e-13,  8.52651283e-14,\n",
       "       -5.68434189e-14,  3.97903932e-13, -5.68434189e-14, -2.84217094e-14,\n",
       "        7.10542736e-14, -1.42108547e-14, -8.52651283e-14,  0.00000000e+00,\n",
       "        0.00000000e+00, -1.77635684e-14, -7.10542736e-13, -2.84217094e-14,\n",
       "       -1.98951966e-13,  0.00000000e+00, -3.69482223e-13, -2.84217094e-14,\n",
       "        1.42108547e-14,  2.27373675e-13,  2.84217094e-14,  5.68434189e-14,\n",
       "       -2.84217094e-14,  2.84217094e-14,  1.27897692e-13, -2.13162821e-14,\n",
       "        1.98951966e-13, -5.68434189e-14,  8.88178420e-14, -4.83169060e-13,\n",
       "        0.00000000e+00,  1.70530257e-13, -2.84217094e-14, -1.42108547e-14,\n",
       "        1.84741111e-13,  2.84217094e-14,  5.68434189e-14,  1.42108547e-14,\n",
       "        3.41060513e-13,  8.52651283e-14, -2.13162821e-13, -1.42108547e-13,\n",
       "        8.52651283e-14,  2.41584530e-13,  0.00000000e+00, -5.11590770e-13,\n",
       "       -1.27897692e-13, -8.52651283e-14, -3.41060513e-13,  0.00000000e+00,\n",
       "        2.13162821e-13,  0.00000000e+00, -1.13686838e-13,  1.13686838e-13,\n",
       "       -2.84217094e-13,  7.10542736e-14,  5.68434189e-14, -2.84217094e-14,\n",
       "       -6.25277607e-13,  0.00000000e+00,  0.00000000e+00,  7.10542736e-15,\n",
       "       -2.84217094e-13, -1.42108547e-13, -1.35003120e-13, -1.63424829e-13,\n",
       "       -8.52651283e-14,  0.00000000e+00,  2.13162821e-14,  1.27897692e-13,\n",
       "        1.70530257e-13, -2.27373675e-13,  5.68434189e-14,  2.84217094e-14,\n",
       "       -1.13686838e-13, -5.40012479e-13, -6.25277607e-13, -7.10542736e-14,\n",
       "        8.52651283e-14, -2.84217094e-14,  2.84217094e-14,  0.00000000e+00,\n",
       "        8.52651283e-14, -2.27373675e-13,  7.10542736e-14, -1.42108547e-14,\n",
       "       -1.42108547e-13, -3.69482223e-13,  0.00000000e+00,  7.10542736e-15,\n",
       "       -5.68434189e-14, -5.68434189e-14,  7.81597009e-14, -4.26325641e-14,\n",
       "        0.00000000e+00,  2.70006240e-13,  2.84217094e-14, -1.42108547e-14,\n",
       "        1.49213975e-13, -1.42108547e-14, -5.68434189e-14,  3.69482223e-13,\n",
       "        2.84217094e-13, -1.13686838e-13,  5.68434189e-14, -2.84217094e-14,\n",
       "       -1.42108547e-14,  2.84217094e-14,  1.42108547e-13, -1.42108547e-13,\n",
       "       -5.32907052e-15, -5.68434189e-14, -1.98951966e-13, -2.84217094e-14,\n",
       "       -7.10542736e-15,  0.00000000e+00,  5.68434189e-14, -3.55271368e-14,\n",
       "       -2.84217094e-14,  2.84217094e-14,  2.13162821e-14, -2.84217094e-14,\n",
       "       -1.42108547e-14,  0.00000000e+00,  2.84217094e-14, -5.68434189e-14,\n",
       "       -1.13686838e-13,  2.55795385e-13, -9.94759830e-14, -1.70530257e-13,\n",
       "       -8.52651283e-14, -8.52651283e-14,  1.42108547e-14, -2.13162821e-14,\n",
       "       -3.19744231e-14,  8.88178420e-15,  2.84217094e-14, -4.26325641e-14,\n",
       "        4.26325641e-14, -1.27897692e-13,  2.84217094e-13, -2.84217094e-14,\n",
       "       -1.70530257e-13, -2.55795385e-13,  6.39488462e-14,  5.68434189e-14,\n",
       "        2.84217094e-14,  1.13686838e-13,  1.42108547e-13, -2.84217094e-14,\n",
       "       -2.84217094e-14,  0.00000000e+00,  7.10542736e-15,  2.84217094e-14,\n",
       "        2.55795385e-13,  8.52651283e-14,  9.94759830e-14, -1.42108547e-13,\n",
       "       -3.69482223e-13,  2.27373675e-13, -5.68434189e-14, -4.26325641e-13,\n",
       "        2.55795385e-13,  0.00000000e+00,  1.42108547e-14,  2.13162821e-14,\n",
       "        8.52651283e-14, -5.68434189e-14,  1.42108547e-14, -1.42108547e-14,\n",
       "        0.00000000e+00, -5.68434189e-14,  1.42108547e-14,  0.00000000e+00,\n",
       "       -1.42108547e-13, -1.42108547e-14,  0.00000000e+00, -1.42108547e-13,\n",
       "        0.00000000e+00,  5.68434189e-14,  3.97903932e-13, -1.42108547e-14,\n",
       "        2.84217094e-14,  9.23705556e-14, -2.13162821e-14, -7.10542736e-14,\n",
       "       -5.68434189e-14,  0.00000000e+00,  5.68434189e-14,  7.10542736e-14,\n",
       "        0.00000000e+00,  1.42108547e-14,  5.68434189e-14,  5.68434189e-14,\n",
       "        5.68434189e-14, -2.84217094e-14,  2.84217094e-14, -7.10542736e-14,\n",
       "        4.26325641e-13,  1.27897692e-13, -1.42108547e-14,  1.42108547e-14,\n",
       "       -5.68434189e-14,  0.00000000e+00,  6.53699317e-13, -2.55795385e-13,\n",
       "       -2.84217094e-13, -5.68434189e-14,  2.84217094e-14, -2.84217094e-14,\n",
       "        3.12638804e-13,  2.84217094e-14,  3.12638804e-13,  1.42108547e-14,\n",
       "        2.84217094e-14,  0.00000000e+00, -7.10542736e-15,  7.10542736e-14,\n",
       "       -1.42108547e-14, -5.68434189e-14,  1.42108547e-14, -1.42108547e-13,\n",
       "        5.68434189e-14,  0.00000000e+00,  2.84217094e-13, -3.55271368e-14,\n",
       "        2.84217094e-14,  1.42108547e-14,  1.42108547e-14, -1.13686838e-13,\n",
       "        0.00000000e+00,  5.68434189e-14, -2.84217094e-14, -9.94759830e-14,\n",
       "        0.00000000e+00,  4.26325641e-14,  2.41584530e-13,  3.41060513e-13,\n",
       "        1.42108547e-13,  9.23705556e-14, -1.13686838e-13,  2.84217094e-14,\n",
       "       -5.68434189e-14,  1.42108547e-14,  0.00000000e+00,  2.84217094e-14,\n",
       "       -3.55271368e-14,  1.42108547e-14, -5.68434189e-14,  0.00000000e+00,\n",
       "        1.13686838e-13, -1.42108547e-14, -5.68434189e-14, -8.52651283e-14,\n",
       "        8.52651283e-14,  8.52651283e-14, -4.40536496e-13,  0.00000000e+00,\n",
       "        1.42108547e-13, -7.10542736e-15,  4.26325641e-14, -1.42108547e-14,\n",
       "        1.42108547e-14,  2.84217094e-14,  4.26325641e-14, -8.52651283e-14,\n",
       "       -2.84217094e-14, -1.42108547e-14, -1.56319402e-13,  5.68434189e-14,\n",
       "       -2.48689958e-14, -1.13686838e-13,  0.00000000e+00,  0.00000000e+00,\n",
       "       -2.84217094e-14,  0.00000000e+00, -2.84217094e-14, -2.84217094e-14,\n",
       "        2.27373675e-13,  1.13686838e-13,  2.84217094e-14,  8.52651283e-14,\n",
       "        6.21724894e-15,  8.52651283e-14, -3.55271368e-15,  0.00000000e+00,\n",
       "        6.39488462e-14,  2.84217094e-14,  1.70530257e-13, -1.42108547e-14,\n",
       "        2.55795385e-13,  0.00000000e+00,  0.00000000e+00, -5.68434189e-14,\n",
       "        7.10542736e-14, -7.10542736e-15,  0.00000000e+00,  2.84217094e-14,\n",
       "       -3.55271368e-14, -5.68434189e-14,  1.77635684e-14,  4.26325641e-14,\n",
       "        0.00000000e+00, -9.94759830e-14, -1.42108547e-14,  3.55271368e-14,\n",
       "        1.13686838e-13,  3.55271368e-15, -5.68434189e-14, -5.68434189e-14,\n",
       "       -1.42108547e-14,  1.13686838e-13,  1.42108547e-14,  7.10542736e-14,\n",
       "        4.12114787e-13,  1.70530257e-13, -5.68434189e-14,  1.42108547e-14,\n",
       "       -2.84217094e-14,  8.52651283e-14, -4.26325641e-14,  2.84217094e-14,\n",
       "       -2.70006240e-13,  2.84217094e-14, -2.84217094e-14, -1.42108547e-14])\n",
       "  message: 'Optimization terminated successfully.'\n",
       "     nfev: 8\n",
       "      nit: 3\n",
       "     njev: 8\n",
       "   status: 0\n",
       "  success: True\n",
       "        x: array([-3.29051006e+01, -9.58353765e+01, -3.18978587e+01, -2.48568130e+01,\n",
       "        1.84677988e+01,  4.99532979e+00,  2.28244926e+01, -9.59679127e+01,\n",
       "        3.69849188e+01,  2.05375187e+01, -3.40546453e+01, -4.71346810e+01,\n",
       "        3.11085575e+01,  2.04655320e+01,  2.21400939e+01,  3.44695235e+01,\n",
       "        2.71209398e+01,  5.64197231e+01, -8.89446002e+01, -2.96307486e+01,\n",
       "        1.58643966e+01,  1.73381733e+01, -9.47223593e+01,  2.87667796e+01,\n",
       "       -9.61319712e+01,  1.97053945e+01,  2.53109241e+01,  9.86688917e+01,\n",
       "        2.21976422e+01, -8.04587075e+01, -7.19799423e+01, -4.27752205e+01,\n",
       "        2.49100135e+01, -5.02562846e+01, -6.58143269e+01,  2.25880880e+01,\n",
       "        5.47125123e+01,  4.04184211e+01, -9.59148647e+01,  6.08713847e+01,\n",
       "        9.98110866e+01, -8.84561899e+00,  2.88025397e+01, -5.67015907e+00,\n",
       "       -2.07215784e+01, -1.87507706e+01,  1.66373102e+01,  4.74293953e+00,\n",
       "       -1.85824611e+01,  7.16456956e+01,  6.88102198e+01, -1.63348197e+01,\n",
       "        3.65278928e+01, -6.10416796e+01, -5.07003587e+01,  8.52938139e+01,\n",
       "       -1.41964283e+01, -3.47293161e+01, -1.19771181e+01,  8.12927577e+01,\n",
       "       -8.27653070e+01,  3.35932073e+01,  6.14869659e+01,  8.03508024e+01,\n",
       "        5.85095967e+01, -6.54994126e+01, -7.87619286e+01,  2.60732342e+01,\n",
       "       -8.43390642e+01,  9.24775299e+01,  1.41589276e+01,  2.17047016e+01,\n",
       "       -3.42608982e+01,  1.69948181e+01,  8.95749261e+01,  9.00659728e+01,\n",
       "       -9.67005332e+01,  4.06180786e+01, -5.54903992e+01, -6.33754773e+01,\n",
       "        9.49105379e+01,  1.78860662e+01, -4.98513398e+01, -1.67853492e+01,\n",
       "       -4.77164668e+01,  3.15151869e+00, -9.20089541e+01,  2.96181477e+01,\n",
       "        8.82167056e+01, -1.35223653e+01, -9.83885976e+01, -4.82729601e+01,\n",
       "        2.36236773e+01, -3.57644152e+01,  3.55491984e+01, -8.22990204e+01,\n",
       "        2.10044062e+01,  7.07841885e+01, -1.66658371e+01, -3.62551809e+01,\n",
       "        7.38877248e+01, -6.56920238e+00,  3.33268937e+01,  2.61540350e+01,\n",
       "        4.11418270e+01,  2.58925983e+01, -1.90556443e+01,  2.24653260e+01,\n",
       "       -8.60082738e+00, -6.75015414e+01, -8.07068245e+01,  2.13244426e+01,\n",
       "       -1.14860275e+01, -6.13285732e+01, -6.48582130e+01, -4.13392507e+01,\n",
       "        5.91552190e+01, -2.33452905e+01, -7.08272178e+01,  7.95637420e+01,\n",
       "       -5.52814779e+01, -3.03696066e+01, -4.06831256e+01,  6.64353537e+01,\n",
       "        9.27009145e+01, -5.96753435e+01,  6.44152579e+01, -7.09940820e+01,\n",
       "       -8.30687997e+00,  1.18739877e+01,  3.70051069e+01,  9.47508581e+01,\n",
       "       -9.07590330e+01,  9.00374141e+00,  3.86377899e+01,  3.23616137e+01,\n",
       "       -5.24870211e+01, -5.12447403e+01,  3.65772770e+01, -4.46159209e+01,\n",
       "       -3.42250228e+01, -5.23965432e+01, -1.09068794e+00,  9.47722513e+01,\n",
       "       -3.90805380e+01,  3.81712054e+01,  3.61632033e+01, -1.05765087e+01,\n",
       "        2.07145014e+01,  2.77507715e+01, -4.61184462e+01, -5.31373176e+01,\n",
       "       -7.57374564e+01, -8.82747244e+01, -6.80341237e+01,  8.65786921e+01,\n",
       "       -1.35647016e+01, -8.55834484e+01,  1.52057143e+00,  3.84097793e+00,\n",
       "        8.20684883e+01,  2.91282691e+00,  6.42652392e+01,  9.68771967e+01,\n",
       "        8.56547945e+01,  5.24055423e+01,  7.65014098e+01, -4.82911937e+01,\n",
       "       -8.25166261e+01, -3.32059137e+01, -1.42919183e+01,  4.97768887e+01,\n",
       "        3.76670122e+01, -9.21762887e+01,  3.40381666e+00, -5.95264669e+00,\n",
       "       -9.32447089e+01, -9.70444189e+01, -9.21655759e+01, -7.87382401e+01,\n",
       "       -5.94303349e+01, -2.63302877e+01, -5.90343785e+01, -7.05344712e+01,\n",
       "        6.69389790e+01,  8.14354031e+00, -6.87797228e+01, -6.54055033e+01,\n",
       "        4.95631552e+01,  7.17552092e+01, -6.59386790e+01, -8.60333280e+01,\n",
       "       -1.30896693e+01, -6.50079032e+01,  5.85278057e+01,  7.09849089e+01,\n",
       "       -4.33095300e+01,  9.08882142e+01,  3.81526813e+00, -2.16681008e+01,\n",
       "       -9.57533490e+01, -9.72567807e+01, -2.78016996e+00, -5.86986680e+01,\n",
       "        7.95491126e+01, -9.60861430e+01, -3.28639500e+01,  8.15231770e+00,\n",
       "       -1.85184988e+01, -2.57930862e+01,  7.31840868e+01,  6.29937696e+01,\n",
       "       -9.77147319e+01, -5.65851301e+01, -2.69026676e+01,  8.08493384e+01,\n",
       "        1.30450662e+01,  2.07128909e+01,  8.29741753e+01,  9.38650817e+01,\n",
       "       -4.85668596e+01, -1.69434807e+01, -6.27247489e+01, -3.88365679e+01,\n",
       "        2.32503903e+01, -5.49993109e+01, -6.85223163e+01,  7.92698335e+00,\n",
       "       -4.68331144e+01, -4.51808506e+01,  8.12861010e+01,  5.52358937e+01,\n",
       "        9.99016530e+01,  1.32763650e+00, -3.19146999e+01, -4.32937048e+00,\n",
       "       -9.55689003e+01, -9.25386813e+01, -5.62455209e+00, -8.67982029e+00,\n",
       "       -3.98939368e+01, -8.75210472e+01,  2.06916453e+01, -4.49461763e+01,\n",
       "       -9.77585171e+01,  9.45453262e+01,  2.86859022e+01,  5.27614502e+01,\n",
       "        6.74812691e+01, -8.67597521e+01,  7.05640182e+01,  2.94921486e+01,\n",
       "       -8.34157665e+01,  5.98951733e+01, -5.48586514e+01,  5.86746873e+01,\n",
       "        5.89797038e+01,  8.86305755e+01, -2.46406270e+01, -4.99122641e+01,\n",
       "       -4.27283512e+01, -6.73167095e+01,  8.34149473e+00, -2.56311422e+01,\n",
       "        4.78396843e+01, -6.63957934e+01, -3.02742941e+01,  8.81420762e+00,\n",
       "        5.59940305e+01,  2.10534366e+01, -9.11837866e+01, -1.16933573e+01,\n",
       "       -1.62223090e+01, -1.77019790e+01,  9.12289300e+01,  7.61655355e+00,\n",
       "       -6.06892803e+01,  1.49586295e+00, -8.31128782e+01, -5.50149391e+00,\n",
       "       -3.85703096e+01,  7.86580728e+01,  7.02287141e+01,  2.64612239e+01,\n",
       "        1.60370372e+00,  3.57389719e+01,  6.41394714e+01,  3.57407626e+01,\n",
       "       -2.84308417e+01,  1.84505550e+01, -2.18056483e+00,  1.37951138e+01,\n",
       "        6.33260784e+01,  7.27871556e+01, -3.10076590e+01,  4.69606470e+01,\n",
       "       -1.27600271e+01,  1.93542328e+01,  4.03548330e+01,  6.96635010e+01,\n",
       "        6.64476058e+01, -5.10760533e+01,  1.75738707e+01, -4.21704244e+01,\n",
       "        7.15290686e+01, -7.09118075e-01, -4.04440470e+01,  1.39172054e+01,\n",
       "       -1.17772452e+00, -1.86265251e+00,  7.85823566e+01, -1.25593783e+01,\n",
       "        5.53234207e+00, -1.37303294e+01,  1.83305644e+01, -1.92905238e+01,\n",
       "        7.67326152e+01,  2.28733892e+01, -4.75297065e+00,  6.69512154e+01,\n",
       "       -6.73417646e+01,  7.38124918e+01,  6.02964716e+00,  2.04713982e+01,\n",
       "       -9.38044807e+01,  3.33673126e+01, -1.65400696e+01,  4.20296201e+01,\n",
       "       -6.56220896e+01,  5.47036013e+01, -5.37485915e+01, -8.26363049e+01,\n",
       "        4.42277621e+01, -9.89547166e+01, -8.43800938e+01,  8.00698880e+01,\n",
       "        9.82915477e+01, -8.46109331e+01, -5.48312677e+00,  1.34897678e+01,\n",
       "       -9.05159873e+01,  7.76941687e+01, -4.52695934e+00,  2.70192361e+01,\n",
       "        1.37941583e+01,  3.74727101e+01, -2.75277458e+01, -8.06411843e+01,\n",
       "        7.78767794e+01, -4.86169283e+00,  4.90645540e+01,  2.64804728e+01,\n",
       "       -6.58323795e+01, -9.90509188e+01,  9.80028956e+01, -1.04241245e+01,\n",
       "       -4.91517283e+01, -2.16040211e-01, -1.06946429e+01,  6.01111665e+01,\n",
       "        3.90630647e+01,  8.61267977e+01,  4.42963259e+01,  1.56613621e+01,\n",
       "       -7.62995509e+01,  3.97340886e+01, -7.73406730e+01,  8.47618392e+01,\n",
       "        8.53148041e+01,  7.15514858e+01,  9.51534049e+01, -3.53038235e+01,\n",
       "       -8.34852676e+01, -5.78025428e+00,  5.45275906e+01, -2.03420128e+01,\n",
       "       -5.80371879e+01,  3.81610667e+01,  8.82746109e+01, -6.98890961e+01,\n",
       "        1.92915680e+00,  1.88384119e+01,  1.84231939e+01,  1.97762649e+01,\n",
       "       -9.79701101e+01,  2.84694176e+01, -8.96624898e+01,  2.24783595e+01,\n",
       "       -7.10237597e+01, -3.51089990e+01,  2.73533046e+01, -5.55410511e+01,\n",
       "        1.37473706e+01, -9.59377426e+01, -2.49760576e+01, -7.61098154e+01,\n",
       "        7.97365370e+01, -7.54406782e+01, -8.89838589e+01,  3.67100810e+00,\n",
       "       -7.45675537e+01, -1.32167182e+01, -1.94650884e+01,  8.16795595e+01,\n",
       "        4.06160648e+00,  9.94634108e+01, -9.18643600e+01, -2.94296593e+01,\n",
       "       -4.91300116e+01, -3.06097331e+01,  3.79059739e+01, -8.65575096e+01,\n",
       "        9.26314724e+01, -1.99116827e+01, -6.04419282e+01,  9.34946531e+01,\n",
       "        6.49038405e+01, -6.29615406e+01,  6.47214888e+01, -4.91584595e+01,\n",
       "       -5.87817018e+00, -3.65785134e+01,  9.99321594e+01,  4.18759407e+01,\n",
       "        7.70539708e+01,  3.11127358e+01,  9.52411704e+01,  7.77327136e+01,\n",
       "        3.17548135e+01,  1.05984184e+01,  5.43170530e+01, -6.24133214e+01,\n",
       "       -1.86719067e+01,  7.63911067e+00, -3.49096734e+01,  6.11259278e+01,\n",
       "       -5.71206798e+01,  4.87515964e+01, -3.89233951e+01, -9.13590840e+00,\n",
       "       -7.22760601e+01, -1.71045939e+01,  4.66385617e+01, -6.69347088e+01,\n",
       "        2.91367211e+00, -7.71186474e+01, -4.07980122e+01,  8.19913060e+01,\n",
       "       -1.84830299e+01, -2.59975765e+01, -7.87430954e+01, -8.66486835e+01,\n",
       "       -9.82138382e+01,  6.79701503e+01,  2.69434664e+01, -8.39282498e+01,\n",
       "        3.53770529e-02,  4.35347343e+01,  1.32227808e+01, -4.39632896e+01,\n",
       "       -1.67072171e+01,  7.92131791e+01,  7.05814009e+01, -3.87646424e+01,\n",
       "       -8.98551494e+01, -7.24602414e+01, -2.56298930e+01, -2.63818246e+01,\n",
       "       -5.32208078e+01,  1.57898100e+01, -1.71423392e+01, -7.49972402e+01,\n",
       "        2.11878277e+00, -3.42381052e+01,  1.40556991e+01, -3.64388945e+01,\n",
       "        1.12414191e+00, -5.13218977e+01, -1.93437375e+01, -2.22279748e+01,\n",
       "        5.51550679e+01,  2.10444332e+00,  8.16604351e+01, -9.41786898e+01,\n",
       "       -3.08997668e+01, -8.67404467e+01, -5.76097178e+01, -2.53550699e+01,\n",
       "        5.78729439e+01,  6.26587678e+01,  4.89942855e+01, -4.67067089e+01,\n",
       "        2.34876212e+01, -7.46408645e+01, -5.56790347e+00,  5.47466975e+01,\n",
       "       -4.81195122e+01,  9.08724662e+01, -4.88587633e+01,  6.04774568e+01])"
      ]
     },
     "execution_count": 34,
     "metadata": {},
     "output_type": "execute_result"
    }
   ],
   "source": [
    "minimize_function_jac(d500, shifted_sphere,-100,100,x_0_500,optimizer = 'BFGS')"
   ]
  },
  {
   "cell_type": "code",
   "execution_count": 35,
   "metadata": {},
   "outputs": [
    {
     "data": {
      "text/plain": [
       "[<matplotlib.lines.Line2D at 0x1cbf8587608>]"
      ]
     },
     "execution_count": 35,
     "metadata": {},
     "output_type": "execute_result"
    },
    {
     "data": {
      "image/png": "[encoded data removed]",
      "text/plain": [
       "<Figure size 432x288 with 1 Axes>"
      ]
     },
     "metadata": {
      "needs_background": "light"
     },
     "output_type": "display_data"
    }
   ],
   "source": [
    "# Plot value of the fitness function \n",
    "plt.title(\"Shifted-sphere minimization fitness function using BFGS with gradients, dimension=500\",fontsize=20,fontweight='bold')\n",
    "plt.xlabel(\"No of iterations\",fontsize=18)\n",
    "plt.ylabel(\"Fitness\",fontsize=18)\n",
    "\n",
    "plt.plot(history[:MAX_ITER])"
   ]
  },
  {
   "cell_type": "markdown",
   "metadata": {},
   "source": [
    "We notice that when using the BFGS algorithm with the gradients the minimum is reached at only 3 iterations and 7 function evaluations !"
   ]
  },
  {
   "cell_type": "markdown",
   "metadata": {},
   "source": [
    "The stopping criterion is the tol (set in our case at 1e-5) meaning the gradient norm must be less than this threshold (tol=gtol for the 'BFGS' algorithm) before successful termination."
   ]
  },
  {
   "cell_type": "markdown",
   "metadata": {},
   "source": [
    "We also used the PSO algorithm which works quite well but was more difficult to fine-tune because of it's greater number of parameters. And also it did not converge as quickly as the BFGS algorithm so finally we chose the later one."
   ]
  }
 ],
 "metadata": {
  "kernelspec": {
   "display_name": "Python 3",
   "language": "python",
   "name": "python3"
  },
  "language_info": {
   "codemirror_mode": {
    "name": "ipython",
    "version": 3
   },
   "file_extension": ".py",
   "mimetype": "text/x-python",
   "name": "python",
   "nbconvert_exporter": "python",
   "pygments_lexer": "ipython3",
   "version": "3.7.6"
  }
 },
 "nbformat": 4,
 "nbformat_minor": 4
}
