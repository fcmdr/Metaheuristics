{
 "cells": [
  {
   "cell_type": "markdown",
   "metadata": {},
   "source": [
    "# Travel Salesman Problem Qatar"
   ]
  },
  {
   "cell_type": "markdown",
   "metadata": {},
   "source": [
    "The Travel Salesman Problem is a known problem in combinatorial optimization. The goal is to determine the shortest path through differents locations. Here the goal is to find the shortest path to visit each and every cities of Qatar and return to the start.\n",
    "The computational complexity increases very quickly as the complexity is factorial. Exemple for 6 cities the number of combinations is **6!= 720 posssibilities**\n",
    "for 12 cities it becomes **12!=479001600 possibilities!**\n",
    "This problem has many applications (logistic, astronomy etc) and is still an active scope of research"
   ]
  },
  {
   "cell_type": "code",
   "execution_count": 1,
   "metadata": {},
   "outputs": [],
   "source": [
    "#Import librairies\n",
    "import six\n",
    "import sys\n",
    "sys.modules['sklearn.externals.six'] = six\n",
    "import mlrose\n",
    "import time\n",
    "import math\n",
    "import matplotlib.pyplot as plt\n",
    "import numpy as np, random, operator, pandas as pd, matplotlib.pyplot as plt\n",
    "import tsplib95"
   ]
  },
  {
   "cell_type": "code",
   "execution_count": 2,
   "metadata": {},
   "outputs": [],
   "source": [
    "#Open the tsp file with tsplib95\n",
    "with open('C:/Users/Fouad/Desktop/DSTI courses/Metaheuristics/Qatar.tsp') as f:\n",
    "    problem = tsplib95.read(f)"
   ]
  },
  {
   "cell_type": "code",
   "execution_count": 3,
   "metadata": {},
   "outputs": [],
   "source": [
    "#Define a class City with x,y coordinates and a distance method to compute distances between 2 cities\n",
    "Cities_list = []\n",
    "class City:\n",
    "    def __init__(self, x, y):\n",
    "        self.x = x\n",
    "        self.y = y\n",
    "        Cities_list.append(self)\n",
    "        \n",
    "    def distance(self, city):\n",
    "        xDis = abs(self.x - city.x)\n",
    "        yDis = abs(self.y - city.y)\n",
    "        distance = np.sqrt((xDis ** 2) + (yDis ** 2))\n",
    "        return distance\n",
    "    \n",
    "    def __repr__(self):\n",
    "        return \"(\" + str(self.x) + \",\" + str(self.y) + \")\"  "
   ]
  },
  {
   "cell_type": "code",
   "execution_count": 4,
   "metadata": {},
   "outputs": [],
   "source": [
    "#Create a class fitness to define the route\n",
    "class Fitness:\n",
    "    def __init__(self, route):\n",
    "        self.route = route\n",
    "        self.distance = 0\n",
    "        self.fitness= 0.0\n",
    "    \n",
    "    def routeDistance(self):\n",
    "        if self.distance ==0:\n",
    "            pathDistance = 0\n",
    "            for i in range(0, len(self.route)):\n",
    "                fromCity = self.route[i]\n",
    "                toCity = None\n",
    "                if i + 1 < len(self.route):\n",
    "                    toCity = self.route[i + 1]\n",
    "                else:\n",
    "                    toCity = self.route[0]\n",
    "                pathDistance += fromCity.distance(toCity)\n",
    "            self.distance = pathDistance\n",
    "        return self.distance\n",
    "    \n",
    "    def routeFitness(self):\n",
    "        if self.fitness == 0:\n",
    "            self.fitness = 1 / float(self.routeDistance())\n",
    "        return self.fitness"
   ]
  },
  {
   "cell_type": "code",
   "execution_count": 5,
   "metadata": {},
   "outputs": [],
   "source": [
    "#Initial route is random from list of cities\n",
    "def createRoute(cityList):\n",
    "    route = random.sample(cityList, len(cityList))\n",
    "    return route"
   ]
  },
  {
   "cell_type": "code",
   "execution_count": 6,
   "metadata": {},
   "outputs": [],
   "source": [
    "#We have created 1 inidividual, to create a population we add a parameter popSize\n",
    "def initialPopulation(popSize, cityList):\n",
    "    population = []\n",
    "\n",
    "    for i in range(0, popSize):\n",
    "        population.append(createRoute(cityList))\n",
    "    return population"
   ]
  },
  {
   "cell_type": "code",
   "execution_count": 7,
   "metadata": {},
   "outputs": [],
   "source": [
    "#Determine fitness each inidividual will be ranked thanks to the distance (routeFitness method of the Fitness class)\n",
    "def rankRoutes(population):\n",
    "    fitnessResults = {}\n",
    "    for i in range(0,len(population)):\n",
    "        fitnessResults[i] = Fitness(population[i]).routeFitness()\n",
    "    return sorted(fitnessResults.items(), key = operator.itemgetter(1), reverse = True)"
   ]
  },
  {
   "cell_type": "code",
   "execution_count": 8,
   "metadata": {},
   "outputs": [],
   "source": [
    "#We select the best individuals to produce the next generations we keep finally the route IDs of our selection\n",
    "def selection(popRanked, eliteSize):\n",
    "    selectionResults = []\n",
    "    df = pd.DataFrame(np.array(popRanked), columns=[\"Index\",\"Fitness\"])\n",
    "    df['cum_sum'] = df.Fitness.cumsum()\n",
    "    df['cum_perc'] = 100*df.cum_sum/df.Fitness.sum()\n",
    "    \n",
    "    for i in range(0, eliteSize):\n",
    "        selectionResults.append(popRanked[i][0])\n",
    "    for i in range(0, len(popRanked) - eliteSize):\n",
    "        pick = 100*random.random()\n",
    "        for i in range(0, len(popRanked)):\n",
    "            if pick <= df.iat[i,3]:\n",
    "                selectionResults.append(popRanked[i][0])\n",
    "                break\n",
    "    return selectionResults"
   ]
  },
  {
   "cell_type": "code",
   "execution_count": 9,
   "metadata": {},
   "outputs": [],
   "source": [
    "def matingPool(population, selectionResults):\n",
    "    matingpool = []\n",
    "    for i in range(0, len(selectionResults)):\n",
    "        index = selectionResults[i]\n",
    "        matingpool.append(population[index])\n",
    "    return matingpool"
   ]
  },
  {
   "cell_type": "code",
   "execution_count": 10,
   "metadata": {},
   "outputs": [],
   "source": [
    "#Creation of the next generations with crossover or \"breeding\" \n",
    "def breed(parent1, parent2):\n",
    "    child = []\n",
    "    childP1 = []\n",
    "    childP2 = []\n",
    "    \n",
    "    geneA = int(random.random() * len(parent1))\n",
    "    geneB = int(random.random() * len(parent1))\n",
    "    \n",
    "    startGene = min(geneA, geneB)\n",
    "    endGene = max(geneA, geneB)\n",
    "\n",
    "    for i in range(startGene, endGene):\n",
    "        childP1.append(parent1[i])\n",
    "    #A city cannot appear twice in a route     \n",
    "    childP2 = [item for item in parent2 if item not in childP1]\n",
    "\n",
    "    child = childP1 + childP2\n",
    "    return child"
   ]
  },
  {
   "cell_type": "code",
   "execution_count": 11,
   "metadata": {},
   "outputs": [],
   "source": [
    "#Creation of the offspring population, thanks to elitesize we keep the best route of the population\n",
    "def breedPopulation(matingpool, eliteSize):\n",
    "    children = []\n",
    "    length = len(matingpool) - eliteSize\n",
    "    pool = random.sample(matingpool, len(matingpool))\n",
    "\n",
    "    for i in range(0,eliteSize):\n",
    "        children.append(matingpool[i])\n",
    "    \n",
    "    for i in range(0, length):\n",
    "        child = breed(pool[i], pool[len(matingpool)-i-1])\n",
    "        children.append(child)\n",
    "    return children"
   ]
  },
  {
   "cell_type": "code",
   "execution_count": 12,
   "metadata": {},
   "outputs": [],
   "source": [
    "#To avoid local convergence we use a function called \"mutate\" this is first applied to 1 individual\n",
    "def mutate(individual, mutationRate):\n",
    "    for swapped in range(len(individual)):\n",
    "        if(random.random() < mutationRate):\n",
    "            swapWith = int(random.random() * len(individual))\n",
    "            \n",
    "            city1 = individual[swapped]\n",
    "            city2 = individual[swapWith]\n",
    "            \n",
    "            individual[swapped] = city2\n",
    "            individual[swapWith] = city1\n",
    "    return individual"
   ]
  },
  {
   "cell_type": "code",
   "execution_count": 13,
   "metadata": {},
   "outputs": [],
   "source": [
    "#The mutate function is then extend to the whole population\n",
    "def mutatePopulation(population, mutationRate):\n",
    "    mutatedPop = []\n",
    "    \n",
    "    for ind in range(0, len(population)):\n",
    "        mutatedInd = mutate(population[ind], mutationRate)\n",
    "        mutatedPop.append(mutatedInd)\n",
    "    return mutatedPop"
   ]
  },
  {
   "cell_type": "code",
   "execution_count": 14,
   "metadata": {},
   "outputs": [],
   "source": [
    "#Finally we produce differents generations\n",
    "def nextGeneration(currentGen, eliteSize, mutationRate):\n",
    "    popRanked = rankRoutes(currentGen)\n",
    "    selectionResults = selection(popRanked, eliteSize)\n",
    "    matingpool = matingPool(currentGen, selectionResults)\n",
    "    children = breedPopulation(matingpool, eliteSize)\n",
    "    nextGeneration = mutatePopulation(children, mutationRate)\n",
    "    return nextGeneration"
   ]
  },
  {
   "cell_type": "code",
   "execution_count": 15,
   "metadata": {},
   "outputs": [],
   "source": [
    "#FInally apply the genetic algorithm and see from how much we improved the global distance\n",
    "def geneticAlgorithm(population, popSize, eliteSize, mutationRate, generations):\n",
    "    global pop\n",
    "    pop = initialPopulation(popSize, population)\n",
    "    print(\"Initial distance: \" + str(1 / rankRoutes(pop)[0][1]))\n",
    "    \n",
    "    for i in range(0, generations):\n",
    "        pop = nextGeneration(pop, eliteSize, mutationRate)\n",
    "    \n",
    "    print(\"Final distance: \" + str(1 / rankRoutes(pop)[0][1]))\n",
    "    bestRouteIndex = rankRoutes(pop)[0][0]\n",
    "    print(f\"best route index is\" +str(bestRouteIndex))\n",
    "    bestRoute = pop[bestRouteIndex]\n",
    "    return bestRoute"
   ]
  },
  {
   "cell_type": "code",
   "execution_count": 16,
   "metadata": {},
   "outputs": [],
   "source": [
    "#Extract coordinates of the dictionnary from the problem file\n",
    "coords_dict = problem.node_coords\n",
    "coords = [*coords_dict.values()]"
   ]
  },
  {
   "cell_type": "code",
   "execution_count": 17,
   "metadata": {},
   "outputs": [],
   "source": [
    "#Extract in 2 separates lists x and y coordinates\n",
    "coords_x = [i[0] for i in coords]\n",
    "coords_y = [i[1] for i in coords]"
   ]
  },
  {
   "cell_type": "code",
   "execution_count": 18,
   "metadata": {},
   "outputs": [],
   "source": [
    "#Instanciate an object of the City class\n",
    "cityList = []\n",
    "for i in range(194):\n",
    "    cityList.append(City(x=int(coords_x[i]), y=int(coords_y[i])))"
   ]
  },
  {
   "cell_type": "code",
   "execution_count": 19,
   "metadata": {},
   "outputs": [
    {
     "name": "stdout",
     "output_type": "stream",
     "text": [
      "Initial distance: 82778.60525102512\n",
      "Final distance: 23730.559418271867\n",
      "best route index is0\n",
      "--- 234.54004406929016 seconds ---\n"
     ]
    }
   ],
   "source": [
    "# Use the genetic algorithm to minimize the distance path between the cities\n",
    "start_time = time.time()\n",
    "best_route_gen=geneticAlgorithm(population=cityList, popSize=200, eliteSize=45, mutationRate=0.0001, generations=1000)\n",
    "print(\"--- %s seconds ---\" % (time.time() - start_time))"
   ]
  },
  {
   "cell_type": "markdown",
   "metadata": {},
   "source": [
    "We put the coordinates of the best route inside the **\"best_route_gen\"** variable"
   ]
  },
  {
   "cell_type": "code",
   "execution_count": 20,
   "metadata": {},
   "outputs": [
    {
     "name": "stdout",
     "output_type": "stream",
     "text": [
      "These are the shortest path found cities coordinates :[(25313,50883), (25316,50766), (25419,50793), (25500,50980), (25451,50925), (25480,50938), (25533,50977), (25567,50958), (25404,51073), (25400,51183), (25363,51281), (25337,51425), (25291,51424), (25300,51394), (25292,51520), (25341,51507), (25574,51486), (25734,51547), (25683,51505), (25650,51372), (25483,51383), (25490,51373), (25469,51397), (25478,51362), (25538,51408), (25545,51387), (25550,51433), (25566,51484), (25610,51475), (25622,51454), (25700,51584), (25708,51591), (25440,51378), (25459,51316), (25531,51304), (25510,51242), (25560,51158), (25495,50965), (25444,50958), (25429,50785), (25495,50846), (25765,51019), (25751,50920), (25826,51043), (25957,51075), (26099,51161), (26077,51222), (25951,51349), (25871,51354), (25983,51328), (26133,51300), (25937,51313), (26078,51361), (26123,51222), (26033,51166), (26033,51163), (26083,51147), (26008,51083), (26150,51108), (26074,51083), (26133,51216), (25966,51283), (26050,51297), (25950,51066), (25823,51152), (25900,51000), (25723,51004), (25716,51050), (25666,51174), (25751,51449), (25686,51468), (25758,51395), (25793,51409), (25888,51386), (25883,51185), (25779,51449), (25857,51441), (26000,51294), (25696,51260), (25839,51465), (25944,51456), (25983,51400), (26055,51316), (25928,51337), (25867,51205), (25904,51201), (25866,51066), (25833,51072), (25958,51099), (26108,51244), (26123,51169), (26033,51116), (26033,51200), (26048,51056), (25816,51133), (25847,51205), (25856,51083), (25775,51023), (26050,51135), (25850,51033), (25808,51060), (25717,51057), (25609,51092), (25585,51151), (25857,51298), (25880,51221), (26050,51250), (25872,51258), (25829,51245), (26016,51333), (26067,51258), (26116,51216), (26076,51166), (26021,51366), (25772,51483), (25645,51450), (25549,51431), (25266,51483), (25270,51532), (25396,51422), (25416,51403), (25374,51436), (25400,51425), (25315,51438), (25358,51333), (25377,51294), (25492,51400), (25497,51485), (25286,51533), (25162,51220), (25010,51039), (25173,51269), (25235,51330), (25339,51173), (25234,51203), (25224,51174), (25121,51218), (25233,51333), (25368,51226), (25340,51293), (25433,51220), (25326,51350), (25416,51457), (25286,51504), (25306,51507), (25284,51555), (25279,51445), (25214,51378), (25223,51451), (25256,51398), (25242,51428), (25243,51452), (25278,51525), (25277,51547), (25281,51512), (25286,51534), (25235,51495), (25167,51606), (25290,51528), (25287,51537), (25275,51533), (25325,51470), (25252,51559), (25253,51535), (25278,51541), (25288,51546), (25322,51507), (25320,51495), (25211,51619), (25270,51505), (25283,51546), (25253,51549), (25265,51545), (25281,51535), (25270,51523), (25283,51533), (25263,51516), (25100,51516), (25150,51537), (24758,51211), (24904,51175), (25030,51275), (24827,51394), (25103,51521), (25210,51394), (24996,51548), (24748,50840), (25067,51077), (25158,51163), (25168,51086), (25298,51001), (25311,51003), (25266,50969), (25214,50807)]\n"
     ]
    }
   ],
   "source": [
    "print(f\"These are the shortest path found cities coordinates :{best_route_gen}\")"
   ]
  },
  {
   "cell_type": "code",
   "execution_count": 21,
   "metadata": {},
   "outputs": [],
   "source": [
    "def geneticAlgoFitnessPlot(population, popSize, eliteSize, mutationRate, generations):\n",
    "    pop = initialPopulation(popSize, population)\n",
    "    progress = []\n",
    "    progress.append(1 / rankRoutes(pop)[0][1])\n",
    "    \n",
    "    for i in range(0, generations):\n",
    "        pop = nextGeneration(pop, eliteSize, mutationRate)\n",
    "        progress.append(1 / rankRoutes(pop)[0][1])\n",
    "    \n",
    "    plt.plot(progress)\n",
    "    plt.ylabel('Fitness (distance)')\n",
    "    plt.xlabel('Generation')\n",
    "    plt.show()"
   ]
  },
  {
   "cell_type": "code",
   "execution_count": 27,
   "metadata": {},
   "outputs": [
    {
     "data": {
      "image/png": "[encoded data removed]",
      "text/plain": [
       "<Figure size 432x288 with 1 Axes>"
      ]
     },
     "metadata": {
      "needs_background": "light"
     },
     "output_type": "display_data"
    }
   ],
   "source": [
    "#Plot the fitness function against the number of generation\n",
    "geneticAlgoFitnessPlot(population=cityList, popSize=200, eliteSize=45, mutationRate=0.0001, generations=1000)"
   ]
  },
  {
   "cell_type": "markdown",
   "metadata": {},
   "source": [
    "The optimal tour for Qatar has a length of 9352. The result we got is quite good (less than 4 minutes).\n",
    "The number of possibilities for this problem is factorial 194 which is really a huge number. We confirmed genetic algorithm is a good way to get a good solution in a short amount of time for the Traveller\n",
    "Salesman Problem !"
   ]
  },
  {
   "cell_type": "code",
   "execution_count": 28,
   "metadata": {},
   "outputs": [],
   "source": [
    "#Transform best_route_gen into lists of lists (initially list of tuples which are imutable)\n",
    "def get_list_of_list():\n",
    "    best_route_gen_arr = np.array(best_route_gen)\n",
    "    a = []\n",
    "    b = []\n",
    "    for l in best_route_gen_arr:\n",
    "        a.append(l.x)\n",
    "        b.append(l.y)\n",
    "    a = np.array(a)\n",
    "    b = np.array(b)\n",
    "\n",
    "    a = a.reshape(-1,1)\n",
    "    b = b.reshape(-1,1)\n",
    "    best_route_gen_list = np.concatenate((a,b),axis=1)\n",
    "    return best_route_gen_list"
   ]
  },
  {
   "cell_type": "code",
   "execution_count": 29,
   "metadata": {},
   "outputs": [],
   "source": [
    "# Get best_route_gen as list of lists\n",
    "best_route_gen_list = get_list_of_list()"
   ]
  },
  {
   "cell_type": "code",
   "execution_count": 35,
   "metadata": {},
   "outputs": [],
   "source": [
    "#Create dataframe with x, y coordinate to merge them with the best_route_coord\n",
    "def get_cities_from_coor(coords_dict,best_route_gen_list):\n",
    "    df = pd.DataFrame.from_dict(coords_dict, orient='index',columns=['x', 'y'])\n",
    "\n",
    "    trunc = lambda x: int(x)\n",
    "\n",
    "    df['xc']=df['x'].apply(trunc)\n",
    "    df['yc']=df['y'].apply(trunc)\n",
    "    df['city'] = [i+1 for i in range(194)]\n",
    "\n",
    "    #To extract the cities index of the best_route\n",
    "    df_br = pd.DataFrame(best_route_gen_list[:,0],columns=['xc'])\n",
    "    df_br['yc'] = best_route_gen_list[:,1]\n",
    "    df_br['rank'] = [i+1 for i in range(194)]\n",
    "    result = pd.merge(df, df_br, how='left', on=['xc', 'yc'])\n",
    "    result.sort_values(by=['rank'])\n",
    "    #Extract cities index\n",
    "    best_route_gen_list_ord = result['rank'].values\n",
    "    return best_route_gen_list_ord"
   ]
  },
  {
   "cell_type": "code",
   "execution_count": 36,
   "metadata": {},
   "outputs": [
    {
     "name": "stdout",
     "output_type": "stream",
     "text": [
      "Best route is the following path :[187 180 183 181 186 131 182 188 178 184 137 179 189 130 158 190 132 185\n",
      " 169 194 148 149 136 138 135 133 157 151 152 163 164 172 150 177 173 193\n",
      " 118 119 170 175 161 154 153 165 147 174 155 176 171 146 144 156 129 160\n",
      " 166 159  13  15 191  14 145 192   1 124   2 168 167 162 142  12 134 140\n",
      "  16 125  11 139 122 126 120  10 123   9 121 143   3  40 141  33  39   5\n",
      "  34  23  24   6  21  22 127  41  38 128   4  36  35   7  25  26 117  27\n",
      "  37  28   8  17 104 103  29  30 116  20  69  19  71  79  31  32  68 102\n",
      "  67  18  70  43  72  42 115  98  76  73 101  95  65  44 109  88  80  96\n",
      " 100  97 105  77  87  85  49 108 106  75  74  66  86  84  52  81  64  48\n",
      "  45  89  62  82  50  78  58 110 114  92  55  56  93  94 107  63  99  83\n",
      " 111  60 113  47  53  57  46  90 112  91  54  61  51  59]\n"
     ]
    }
   ],
   "source": [
    "best_route_gen_list_ord = get_cities_from_coor(coords_dict,best_route_gen_list)\n",
    "print(f\"Best route is the following path :{best_route_gen_list_ord}\")"
   ]
  },
  {
   "cell_type": "code",
   "execution_count": 40,
   "metadata": {},
   "outputs": [],
   "source": [
    "def plot_tsp():\n",
    "    fig = plt.figure(figsize=(10,5))\n",
    "    ax = fig.add_subplot(122)\n",
    "    for first,second in zip(best_route_gen[:-1],best_route_gen[1:]):\n",
    "        ax.plot([first.x,second.x],[first.y,second.y],'b')\n",
    "    ax.plot([best_route_gen[0].x,best_route_gen[-1].x],[best_route_gen[0].y,best_route_gen[-1].y],'b')\n",
    "    ax.set_xlabel('x coordinates')\n",
    "    ax.set_ylabel('y coordinates')\n",
    "    ax.set_title('TSP solution proposal for Qatar (194 cities) using genetic algorithm 23730 km (optimum = 9352km)',fontsize=16)\n",
    "    for c in best_route_gen:\n",
    "        ax.plot(c.x,c.y,'ro')"
   ]
  },
  {
   "cell_type": "code",
   "execution_count": 41,
   "metadata": {},
   "outputs": [
    {
     "data": {
      "image/png": "[encoded data removed]",
      "text/plain": [
       "<Figure size 720x360 with 1 Axes>"
      ]
     },
     "metadata": {
      "needs_background": "light"
     },
     "output_type": "display_data"
    }
   ],
   "source": [
    "plot_tsp()"
   ]
  }
 ],
 "metadata": {
  "kernelspec": {
   "display_name": "Python 3",
   "language": "python",
   "name": "python3"
  },
  "language_info": {
   "codemirror_mode": {
    "name": "ipython",
    "version": 3
   },
   "file_extension": ".py",
   "mimetype": "text/x-python",
   "name": "python",
   "nbconvert_exporter": "python",
   "pygments_lexer": "ipython3",
   "version": "3.7.6"
  }
 },
 "nbformat": 4,
 "nbformat_minor": 4
}
